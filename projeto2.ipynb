{
 "cells": [
  {
   "cell_type": "code",
   "execution_count": 1,
   "metadata": {},
   "outputs": [],
   "source": [
    "# data taken from: https://archive.ics.uci.edu/ml/datasets/breast+cancer+wisconsin+(original)\n",
    "import numpy as np\n",
    "from sklearn import preprocessing, neighbors\n",
    "from sklearn.model_selection import train_test_split\n",
    "import pandas as pd"
   ]
  },
  {
   "cell_type": "code",
   "execution_count": 2,
   "metadata": {},
   "outputs": [],
   "source": [
    "# getting the data\n",
    "dataframe = pd.read_csv(\"breast-cancer-wisconsin.data\")\n",
    "\n",
    "# taking care of all 16 n/a values\n",
    "dataframe.replace('?', -99999, inplace=True)"
   ]
  },
  {
   "cell_type": "code",
   "execution_count": 3,
   "metadata": {},
   "outputs": [
    {
     "data": {
      "text/html": [
       "<div>\n",
       "<style scoped>\n",
       "    .dataframe tbody tr th:only-of-type {\n",
       "        vertical-align: middle;\n",
       "    }\n",
       "\n",
       "    .dataframe tbody tr th {\n",
       "        vertical-align: top;\n",
       "    }\n",
       "\n",
       "    .dataframe thead th {\n",
       "        text-align: right;\n",
       "    }\n",
       "</style>\n",
       "<table border=\"1\" class=\"dataframe\">\n",
       "  <thead>\n",
       "    <tr style=\"text-align: right;\">\n",
       "      <th></th>\n",
       "      <th>id</th>\n",
       "      <th>clump_thickness</th>\n",
       "      <th>unif_cell_size</th>\n",
       "      <th>unif_cell_shape</th>\n",
       "      <th>marg_adhesion</th>\n",
       "      <th>single_epith_cell_size</th>\n",
       "      <th>bare_nuclei</th>\n",
       "      <th>bland_chrom</th>\n",
       "      <th>norm_nucleoli</th>\n",
       "      <th>mitoses</th>\n",
       "      <th>class</th>\n",
       "    </tr>\n",
       "  </thead>\n",
       "  <tbody>\n",
       "    <tr>\n",
       "      <th>0</th>\n",
       "      <td>1000025</td>\n",
       "      <td>5</td>\n",
       "      <td>1</td>\n",
       "      <td>1</td>\n",
       "      <td>1</td>\n",
       "      <td>2</td>\n",
       "      <td>1</td>\n",
       "      <td>3</td>\n",
       "      <td>1</td>\n",
       "      <td>1</td>\n",
       "      <td>2</td>\n",
       "    </tr>\n",
       "    <tr>\n",
       "      <th>1</th>\n",
       "      <td>1002945</td>\n",
       "      <td>5</td>\n",
       "      <td>4</td>\n",
       "      <td>4</td>\n",
       "      <td>5</td>\n",
       "      <td>7</td>\n",
       "      <td>10</td>\n",
       "      <td>3</td>\n",
       "      <td>2</td>\n",
       "      <td>1</td>\n",
       "      <td>2</td>\n",
       "    </tr>\n",
       "    <tr>\n",
       "      <th>2</th>\n",
       "      <td>1015425</td>\n",
       "      <td>3</td>\n",
       "      <td>1</td>\n",
       "      <td>1</td>\n",
       "      <td>1</td>\n",
       "      <td>2</td>\n",
       "      <td>2</td>\n",
       "      <td>3</td>\n",
       "      <td>1</td>\n",
       "      <td>1</td>\n",
       "      <td>2</td>\n",
       "    </tr>\n",
       "    <tr>\n",
       "      <th>3</th>\n",
       "      <td>1016277</td>\n",
       "      <td>6</td>\n",
       "      <td>8</td>\n",
       "      <td>8</td>\n",
       "      <td>1</td>\n",
       "      <td>3</td>\n",
       "      <td>4</td>\n",
       "      <td>3</td>\n",
       "      <td>7</td>\n",
       "      <td>1</td>\n",
       "      <td>2</td>\n",
       "    </tr>\n",
       "    <tr>\n",
       "      <th>4</th>\n",
       "      <td>1017023</td>\n",
       "      <td>4</td>\n",
       "      <td>1</td>\n",
       "      <td>1</td>\n",
       "      <td>3</td>\n",
       "      <td>2</td>\n",
       "      <td>1</td>\n",
       "      <td>3</td>\n",
       "      <td>1</td>\n",
       "      <td>1</td>\n",
       "      <td>2</td>\n",
       "    </tr>\n",
       "  </tbody>\n",
       "</table>\n",
       "</div>"
      ],
      "text/plain": [
       "        id  clump_thickness  unif_cell_size  unif_cell_shape  marg_adhesion  \\\n",
       "0  1000025                5               1                1              1   \n",
       "1  1002945                5               4                4              5   \n",
       "2  1015425                3               1                1              1   \n",
       "3  1016277                6               8                8              1   \n",
       "4  1017023                4               1                1              3   \n",
       "\n",
       "   single_epith_cell_size bare_nuclei  bland_chrom  norm_nucleoli  mitoses  \\\n",
       "0                       2           1            3              1        1   \n",
       "1                       7          10            3              2        1   \n",
       "2                       2           2            3              1        1   \n",
       "3                       3           4            3              7        1   \n",
       "4                       2           1            3              1        1   \n",
       "\n",
       "   class  \n",
       "0      2  \n",
       "1      2  \n",
       "2      2  \n",
       "3      2  \n",
       "4      2  "
      ]
     },
     "execution_count": 3,
     "metadata": {},
     "output_type": "execute_result"
    }
   ],
   "source": [
    "dataframe.head()"
   ]
  },
  {
   "cell_type": "code",
   "execution_count": 4,
   "metadata": {
    "scrolled": true
   },
   "outputs": [
    {
     "data": {
      "text/html": [
       "<div>\n",
       "<style scoped>\n",
       "    .dataframe tbody tr th:only-of-type {\n",
       "        vertical-align: middle;\n",
       "    }\n",
       "\n",
       "    .dataframe tbody tr th {\n",
       "        vertical-align: top;\n",
       "    }\n",
       "\n",
       "    .dataframe thead th {\n",
       "        text-align: right;\n",
       "    }\n",
       "</style>\n",
       "<table border=\"1\" class=\"dataframe\">\n",
       "  <thead>\n",
       "    <tr style=\"text-align: right;\">\n",
       "      <th></th>\n",
       "      <th>id</th>\n",
       "      <th>clump_thickness</th>\n",
       "      <th>unif_cell_size</th>\n",
       "      <th>unif_cell_shape</th>\n",
       "      <th>marg_adhesion</th>\n",
       "      <th>single_epith_cell_size</th>\n",
       "      <th>bland_chrom</th>\n",
       "      <th>norm_nucleoli</th>\n",
       "      <th>mitoses</th>\n",
       "      <th>class</th>\n",
       "    </tr>\n",
       "  </thead>\n",
       "  <tbody>\n",
       "    <tr>\n",
       "      <th>count</th>\n",
       "      <td>6.990000e+02</td>\n",
       "      <td>699.000000</td>\n",
       "      <td>699.000000</td>\n",
       "      <td>699.000000</td>\n",
       "      <td>699.000000</td>\n",
       "      <td>699.000000</td>\n",
       "      <td>699.000000</td>\n",
       "      <td>699.000000</td>\n",
       "      <td>699.000000</td>\n",
       "      <td>699.000000</td>\n",
       "    </tr>\n",
       "    <tr>\n",
       "      <th>mean</th>\n",
       "      <td>1.071704e+06</td>\n",
       "      <td>4.417740</td>\n",
       "      <td>3.134478</td>\n",
       "      <td>3.207439</td>\n",
       "      <td>2.806867</td>\n",
       "      <td>3.216023</td>\n",
       "      <td>3.437768</td>\n",
       "      <td>2.866953</td>\n",
       "      <td>1.589413</td>\n",
       "      <td>2.689557</td>\n",
       "    </tr>\n",
       "    <tr>\n",
       "      <th>std</th>\n",
       "      <td>6.170957e+05</td>\n",
       "      <td>2.815741</td>\n",
       "      <td>3.051459</td>\n",
       "      <td>2.971913</td>\n",
       "      <td>2.855379</td>\n",
       "      <td>2.214300</td>\n",
       "      <td>2.438364</td>\n",
       "      <td>3.053634</td>\n",
       "      <td>1.715078</td>\n",
       "      <td>0.951273</td>\n",
       "    </tr>\n",
       "    <tr>\n",
       "      <th>min</th>\n",
       "      <td>6.163400e+04</td>\n",
       "      <td>1.000000</td>\n",
       "      <td>1.000000</td>\n",
       "      <td>1.000000</td>\n",
       "      <td>1.000000</td>\n",
       "      <td>1.000000</td>\n",
       "      <td>1.000000</td>\n",
       "      <td>1.000000</td>\n",
       "      <td>1.000000</td>\n",
       "      <td>2.000000</td>\n",
       "    </tr>\n",
       "    <tr>\n",
       "      <th>25%</th>\n",
       "      <td>8.706885e+05</td>\n",
       "      <td>2.000000</td>\n",
       "      <td>1.000000</td>\n",
       "      <td>1.000000</td>\n",
       "      <td>1.000000</td>\n",
       "      <td>2.000000</td>\n",
       "      <td>2.000000</td>\n",
       "      <td>1.000000</td>\n",
       "      <td>1.000000</td>\n",
       "      <td>2.000000</td>\n",
       "    </tr>\n",
       "    <tr>\n",
       "      <th>50%</th>\n",
       "      <td>1.171710e+06</td>\n",
       "      <td>4.000000</td>\n",
       "      <td>1.000000</td>\n",
       "      <td>1.000000</td>\n",
       "      <td>1.000000</td>\n",
       "      <td>2.000000</td>\n",
       "      <td>3.000000</td>\n",
       "      <td>1.000000</td>\n",
       "      <td>1.000000</td>\n",
       "      <td>2.000000</td>\n",
       "    </tr>\n",
       "    <tr>\n",
       "      <th>75%</th>\n",
       "      <td>1.238298e+06</td>\n",
       "      <td>6.000000</td>\n",
       "      <td>5.000000</td>\n",
       "      <td>5.000000</td>\n",
       "      <td>4.000000</td>\n",
       "      <td>4.000000</td>\n",
       "      <td>5.000000</td>\n",
       "      <td>4.000000</td>\n",
       "      <td>1.000000</td>\n",
       "      <td>4.000000</td>\n",
       "    </tr>\n",
       "    <tr>\n",
       "      <th>max</th>\n",
       "      <td>1.345435e+07</td>\n",
       "      <td>10.000000</td>\n",
       "      <td>10.000000</td>\n",
       "      <td>10.000000</td>\n",
       "      <td>10.000000</td>\n",
       "      <td>10.000000</td>\n",
       "      <td>10.000000</td>\n",
       "      <td>10.000000</td>\n",
       "      <td>10.000000</td>\n",
       "      <td>4.000000</td>\n",
       "    </tr>\n",
       "  </tbody>\n",
       "</table>\n",
       "</div>"
      ],
      "text/plain": [
       "                 id  clump_thickness  unif_cell_size  unif_cell_shape  \\\n",
       "count  6.990000e+02       699.000000      699.000000       699.000000   \n",
       "mean   1.071704e+06         4.417740        3.134478         3.207439   \n",
       "std    6.170957e+05         2.815741        3.051459         2.971913   \n",
       "min    6.163400e+04         1.000000        1.000000         1.000000   \n",
       "25%    8.706885e+05         2.000000        1.000000         1.000000   \n",
       "50%    1.171710e+06         4.000000        1.000000         1.000000   \n",
       "75%    1.238298e+06         6.000000        5.000000         5.000000   \n",
       "max    1.345435e+07        10.000000       10.000000        10.000000   \n",
       "\n",
       "       marg_adhesion  single_epith_cell_size  bland_chrom  norm_nucleoli  \\\n",
       "count     699.000000              699.000000   699.000000     699.000000   \n",
       "mean        2.806867                3.216023     3.437768       2.866953   \n",
       "std         2.855379                2.214300     2.438364       3.053634   \n",
       "min         1.000000                1.000000     1.000000       1.000000   \n",
       "25%         1.000000                2.000000     2.000000       1.000000   \n",
       "50%         1.000000                2.000000     3.000000       1.000000   \n",
       "75%         4.000000                4.000000     5.000000       4.000000   \n",
       "max        10.000000               10.000000    10.000000      10.000000   \n",
       "\n",
       "          mitoses       class  \n",
       "count  699.000000  699.000000  \n",
       "mean     1.589413    2.689557  \n",
       "std      1.715078    0.951273  \n",
       "min      1.000000    2.000000  \n",
       "25%      1.000000    2.000000  \n",
       "50%      1.000000    2.000000  \n",
       "75%      1.000000    4.000000  \n",
       "max     10.000000    4.000000  "
      ]
     },
     "execution_count": 4,
     "metadata": {},
     "output_type": "execute_result"
    }
   ],
   "source": [
    "dataframe.describe()\n"
   ]
  },
  {
   "cell_type": "code",
   "execution_count": 5,
   "metadata": {},
   "outputs": [
    {
     "data": {
      "image/png": "[encoded data removed]",
      "text/plain": [
       "<Figure size 1440x1440 with 12 Axes>"
      ]
     },
     "metadata": {
      "needs_background": "light"
     },
     "output_type": "display_data"
    }
   ],
   "source": [
    "%matplotlib inline\n",
    "import matplotlib.pyplot as plt\n",
    "dataframe.hist(bins=50, figsize= (20, 20))\n",
    "plt.show()"
   ]
  },
  {
   "cell_type": "code",
   "execution_count": 6,
   "metadata": {
    "scrolled": true
   },
   "outputs": [
    {
     "data": {
      "text/plain": [
       "class                     1.000000\n",
       "unif_cell_shape           0.818934\n",
       "unif_cell_size            0.817904\n",
       "bland_chrom               0.756616\n",
       "clump_thickness           0.716001\n",
       "norm_nucleoli             0.712244\n",
       "marg_adhesion             0.696800\n",
       "single_epith_cell_size    0.682785\n",
       "mitoses                   0.423170\n",
       "id                       -0.080226\n",
       "Name: class, dtype: float64"
      ]
     },
     "execution_count": 6,
     "metadata": {},
     "output_type": "execute_result"
    }
   ],
   "source": [
    "# looking for correlations\n",
    "corr_matrix = dataframe.corr()\n",
    "corr_matrix[\"class\"].sort_values(ascending=False)"
   ]
  },
  {
   "cell_type": "code",
   "execution_count": 7,
   "metadata": {},
   "outputs": [],
   "source": [
    "# id is a completly random feature and it will ruin our model if we use it, so we get rid of it\n",
    "dataframe.drop(['id'], 1, inplace=True)\n",
    "# mitoses has the second lowest correlation value, but it's value is still high so I decided to leave it as a feature"
   ]
  },
  {
   "cell_type": "code",
   "execution_count": 8,
   "metadata": {
    "scrolled": false
   },
   "outputs": [
    {
     "data": {
      "image/png": "[encoded data removed]",
      "text/plain": [
       "<Figure size 1440x720 with 2 Axes>"
      ]
     },
     "metadata": {
      "needs_background": "light"
     },
     "output_type": "display_data"
    }
   ],
   "source": [
    "dataframe.plot(kind=\"scatter\", x=\"unif_cell_size\", y=\"unif_cell_shape\", c=\"class\", cmap=plt.get_cmap(\"winter\"),\n",
    "               figsize=(20,10), s=50)\n",
    "plt.show()"
   ]
  },
  {
   "cell_type": "code",
   "execution_count": 9,
   "metadata": {},
   "outputs": [],
   "source": [
    "# features\n",
    "X = np.array(dataframe.drop(['class'], axis='columns'))\n",
    "\n",
    "# labels\n",
    "y = np.array(dataframe['class'])"
   ]
  },
  {
   "cell_type": "code",
   "execution_count": 10,
   "metadata": {},
   "outputs": [],
   "source": [
    "# cross validation; we're using 80% of data to train our model and the remanign 20% is used to test it\n",
    "X_train, X_test, y_train, y_test = train_test_split(X, y, test_size = 0.2)"
   ]
  },
  {
   "cell_type": "code",
   "execution_count": 11,
   "metadata": {},
   "outputs": [],
   "source": [
    "# Feature Scaling\n",
    "from sklearn.preprocessing import StandardScaler \n",
    "sc = StandardScaler() \n",
    "X_train = sc.fit_transform(X_train) \n",
    "X_test = sc.transform(X_test)"
   ]
  },
  {
   "cell_type": "code",
   "execution_count": 12,
   "metadata": {},
   "outputs": [
    {
     "data": {
      "text/plain": [
       "KNeighborsClassifier(algorithm='auto', leaf_size=30, metric='minkowski',\n",
       "                     metric_params=None, n_jobs=None, n_neighbors=5, p=2,\n",
       "                     weights='uniform')"
      ]
     },
     "execution_count": 12,
     "metadata": {},
     "output_type": "execute_result"
    }
   ],
   "source": [
    "# creating the first classifier -> k-nearest neighbors\n",
    "knearest = neighbors.KNeighborsClassifier(n_neighbors=5, weights='uniform', algorithm='auto',\n",
    "                                        leaf_size=30, p=2, metric='minkowski', metric_params=None)\n",
    "knearest.fit(X_train, y_train)"
   ]
  },
  {
   "cell_type": "code",
   "execution_count": 13,
   "metadata": {},
   "outputs": [
    {
     "name": "stdout",
     "output_type": "stream",
     "text": [
      "accuracy of k-nearest: 0.95\n"
     ]
    }
   ],
   "source": [
    "# accuracy\n",
    "def get_accuracy(classifier):\n",
    "    acc = classifier.score(X_test, y_test)\n",
    "    return acc\n",
    "\n",
    "knearest_acc = get_accuracy(knearest)\n",
    "print(\"accuracy of k-nearest: {}\".format(knearest_acc))"
   ]
  },
  {
   "cell_type": "code",
   "execution_count": 14,
   "metadata": {},
   "outputs": [
    {
     "name": "stdout",
     "output_type": "stream",
     "text": [
      "[[358  12]\n",
      " [ 12 177]]\n"
     ]
    }
   ],
   "source": [
    "from sklearn.metrics import confusion_matrix \n",
    "from sklearn.model_selection import cross_val_predict\n",
    "# Measuring accuracy using the confusion matrix\n",
    "\n",
    "\n",
    "# I could have predicted with the test set but we would have fewer results\n",
    "# we're getting a 'clean' prediction for each instance in the training set\n",
    "def get_confusion_matrix(classifier):\n",
    "    # Predicting the Test set results\n",
    "    \n",
    "    #if we wanted to use the test set\n",
    "    # y_pred = classifier.predict(X_test)\n",
    "    # cm = confusion_matrix(y_test, y_pred)\n",
    "    \n",
    "    # cross_val_predict performs K-fold-cross-validation bit it returns the predictions made on each test fold\n",
    "    # just as a reminder: K-fold-cross-validation slipts the training set randomly int K subsets\n",
    "    # then it trains and evaluates the model K times, picking a different fold for evaluation each time\n",
    "    # and training it on on the K-1 remaining folds\n",
    "    y_pred = cross_val_predict(classifier, X_train, y_train, cv=3)\n",
    "    cm = confusion_matrix(y_train, y_pred)\n",
    "    \n",
    "    return y_pred , cm\n",
    "\n",
    "y_pred, knearest_cm = get_confusion_matrix(knearest)\n",
    "print(knearest_cm)\n",
    "# first row represents the negative class\n",
    "# first row #col0 -> number of instances correctly predicted as benign (true negatives)\n",
    "# first row #col1 -> number of instances wrongly classified as malicious (false positive)\n",
    "# second row #col0 -> number of instances wrongly classified as benign (false negatives)\n",
    "# second row #col1 -> number of instances correctly classified as malicious (true positives)\n",
    "# a perfect classifier would have only true positives and true negatives\n",
    "# so it would look like this (x and y being arbitrary values):\n",
    "# [[x, 0],\n",
    "# [0, y]]\n",
    "\n",
    "\n"
   ]
  },
  {
   "cell_type": "code",
   "execution_count": 15,
   "metadata": {},
   "outputs": [
    {
     "name": "stdout",
     "output_type": "stream",
     "text": [
      "Confusion matrix, without normalization\n"
     ]
    },
    {
     "data": {
      "image/png": "[encoded data removed]",
      "text/plain": [
       "<Figure size 432x288 with 2 Axes>"
      ]
     },
     "metadata": {
      "needs_background": "light"
     },
     "output_type": "display_data"
    }
   ],
   "source": [
    "def plot_confusion_matrix(cm, y_test, y_pred, classes,\n",
    "                          cmap=plt.cm.Blues):\n",
    "\n",
    "    title = 'Confusion matrix'\n",
    "\n",
    "    # Compute confusion matrix\n",
    "    # cm = confusion_matrix(y_true, y_pred)\n",
    "    # classes = classes[unique_y(y_test, y_pred)]\n",
    "    print('Confusion matrix, without normalization')\n",
    "\n",
    "    fig, ax = plt.subplots()\n",
    "    im = ax.imshow(cm, interpolation='nearest', cmap=cmap)\n",
    "    ax.figure.colorbar(im, ax=ax)\n",
    "    # We want to show all ticks...\n",
    "    ax.set(xticks=np.arange(cm.shape[1]),\n",
    "           yticks=np.arange(cm.shape[0]),\n",
    "           # ... and label them with the respective list entries\n",
    "           xticklabels=classes, yticklabels=classes,\n",
    "           title=title,\n",
    "           ylabel='True label',\n",
    "           xlabel='Predicted label')\n",
    "\n",
    "    # Rotate the tick labels and set their alignment.\n",
    "    plt.setp(ax.get_xticklabels(), rotation=45, ha=\"right\",\n",
    "             rotation_mode=\"anchor\")\n",
    "\n",
    "    # Loop over data dimensions and create text annotations.\n",
    "    fmt = 'd'\n",
    "    thresh = cm.max() / 2.\n",
    "    for i in range(cm.shape[0]):\n",
    "        for j in range(cm.shape[1]):\n",
    "            ax.text(j, i, format(cm[i, j], fmt),\n",
    "                    ha=\"center\", va=\"center\",\n",
    "                    color=\"white\" if cm[i, j] > thresh else \"black\")\n",
    "    fig.tight_layout()\n",
    "    return ax\n",
    "\n",
    "\n",
    "np.set_printoptions(precision=2)\n",
    "\n",
    "# Plot non-normalized confusion matrix\n",
    "plot_confusion_matrix(knearest_cm, y_test, y_pred, classes=[\"benign\", \"malicious\"])\n",
    "\n",
    "# Plot normalized confusion matrix\n",
    "# plot_confusion_matrix(y_test, y_pred, classes=class_names, normalize=True,\n",
    "                      # title='Normalized confusion matrix')\n",
    "\n",
    "plt.show()"
   ]
  },
  {
   "cell_type": "code",
   "execution_count": 16,
   "metadata": {},
   "outputs": [
    {
     "name": "stdout",
     "output_type": "stream",
     "text": [
      "precision score = 0.9675675675675676\n",
      "recall score = 0.9675675675675676\n"
     ]
    }
   ],
   "source": [
    "# using Precision + Recall to measure accuracy\n",
    "# precision = TP/(TP+FP)\n",
    "# recall = TP/(TP+FN)\n",
    "\n",
    "def get_precision_recall(cm):\n",
    "    tp = cm[0][0]\n",
    "    fp = cm[0][1]\n",
    "    fn = cm[1][0]\n",
    "\n",
    "    ps = tp/(tp+fp)\n",
    "    rs = tp/(tp+fn)\n",
    "    \n",
    "    return ps, rs\n",
    "\n",
    "kn_precision, kn_recall = get_precision_recall(knearest_cm)\n",
    "\n",
    "# precision score = accuracy of positive predictions \n",
    "print(\"precision score = {}\".format(kn_precision))\n",
    "\n",
    "# recall score = ratio of positive instances that are correctly detetected\n",
    "print(\"recall score = {}\".format(kn_recall))"
   ]
  },
  {
   "cell_type": "code",
   "execution_count": 17,
   "metadata": {},
   "outputs": [
    {
     "name": "stdout",
     "output_type": "stream",
     "text": [
      "F1 score of k-nearest neighbors = 0.9675675675675676\n"
     ]
    }
   ],
   "source": [
    "# now to compare the results with the next classifier we have to calculate the F1 score using\n",
    "# the precision and recall score\n",
    "# the F1 score is the harmonic mean of precision and recall\n",
    "# the harmonic mean favors much more weight to low values\n",
    "F1_knearest = 2 * (kn_precision*kn_recall)/(kn_precision+kn_recall)\n",
    "print(\"F1 score of k-nearest neighbors = {}\".format(F1_knearest))"
   ]
  },
  {
   "cell_type": "code",
   "execution_count": 18,
   "metadata": {},
   "outputs": [
    {
     "name": "stdout",
     "output_type": "stream",
     "text": [
      "{'C': 1, 'gamma': 0.1}\n"
     ]
    }
   ],
   "source": [
    "# moving to SVM\n",
    "from sklearn.model_selection import GridSearchCV\n",
    "from sklearn.svm import SVC\n",
    "from sklearn.pipeline import Pipeline\n",
    "from scipy import stats\n",
    "\n",
    "Cs = [0.001, 0.01, 0.1, 1, 10, 15, 20, 100, 1000]\n",
    "gammas = [0.001, 0.01, 0.1, 1, 5, 10, 15, 20]\n",
    "param_grid = {'C': Cs, 'gamma' : gammas}\n",
    "grid_search = GridSearchCV(SVC(kernel='rbf'), param_grid, cv=10, iid=True)\n",
    "grid_search.fit(X_train, y_train)\n",
    "print(grid_search.best_params_)\n"
   ]
  },
  {
   "cell_type": "code",
   "execution_count": 19,
   "metadata": {},
   "outputs": [
    {
     "data": {
      "text/plain": [
       "Pipeline(memory=None,\n",
       "         steps=[('scaler',\n",
       "                 StandardScaler(copy=True, with_mean=True, with_std=True)),\n",
       "                ('svm_clf',\n",
       "                 SVC(C=1, cache_size=200, class_weight=None, coef0=0.0,\n",
       "                     decision_function_shape='ovr', degree=3, gamma=0.1,\n",
       "                     kernel='rbf', max_iter=-1, probability=False,\n",
       "                     random_state=None, shrinking=True, tol=0.001,\n",
       "                     verbose=False))],\n",
       "         verbose=False)"
      ]
     },
     "execution_count": 19,
     "metadata": {},
     "output_type": "execute_result"
    }
   ],
   "source": [
    "# Now we predict using SVM based on the grid search results\n",
    "\n",
    "c = grid_search.best_params_['C']\n",
    "g = grid_search.best_params_['gamma']\n",
    "\n",
    "# using a Gaussian RBF kernel \n",
    "rbf_svm = Pipeline([\n",
    "    (\"scaler\", StandardScaler()),\n",
    "    (\"svm_clf\", SVC(kernel=\"rbf\", gamma=g, C=c, decision_function_shape='ovr'))\n",
    "])\n",
    "\n",
    "rbf_svm.fit(X_train, y_train)\n"
   ]
  },
  {
   "cell_type": "code",
   "execution_count": 20,
   "metadata": {},
   "outputs": [
    {
     "name": "stdout",
     "output_type": "stream",
     "text": [
      "accuracy of svm: 0.9571428571428572\n"
     ]
    }
   ],
   "source": [
    "# accuracy\n",
    "acc_svm = get_accuracy(rbf_svm)\n",
    "print(\"accuracy of svm: {}\".format(acc_svm))"
   ]
  },
  {
   "cell_type": "code",
   "execution_count": 21,
   "metadata": {},
   "outputs": [
    {
     "name": "stdout",
     "output_type": "stream",
     "text": [
      "Confusion Matrix: \n",
      "[[356  14]\n",
      " [  8 181]]\n",
      "Confusion matrix, without normalization\n"
     ]
    },
    {
     "data": {
      "image/png": "[encoded data removed]",
      "text/plain": [
       "<Figure size 432x288 with 2 Axes>"
      ]
     },
     "metadata": {
      "needs_background": "light"
     },
     "output_type": "display_data"
    }
   ],
   "source": [
    "#y_pred = rbf_svm.predict(X_test) \n",
    "# Making the Confusion Matrix \n",
    "#cm = confusion_matrix(y_test, y_pred)\n",
    "\n",
    "y_pred, svm_cm = get_confusion_matrix(rbf_svm)\n",
    "print(\"Confusion Matrix: \\n{}\".format(svm_cm))\n",
    "\n",
    "# Plot non-normalized confusion matrix\n",
    "plot_confusion_matrix(svm_cm, y_test, y_pred, classes=[\"benign\", \"malicious\"])\n",
    "\n",
    "# Plot normalized confusion matrix\n",
    "# plot_confusion_matrix(y_test, y_pred, classes=class_names, normalize=True,\n",
    "                      # title='Normalized confusion matrix')\n",
    "\n",
    "plt.show()"
   ]
  },
  {
   "cell_type": "code",
   "execution_count": 22,
   "metadata": {},
   "outputs": [
    {
     "name": "stdout",
     "output_type": "stream",
     "text": [
      "precision score = 0.9621621621621622\n",
      "recall score = 0.978021978021978\n"
     ]
    }
   ],
   "source": [
    "svm_precision, svm_recall = get_precision_recall(svm_cm)\n",
    "\n",
    "# precision score = accuracy of positive predictions \n",
    "print(\"precision score = {}\".format(svm_precision))\n",
    "\n",
    "# recall score = ratio of positive instances that are correctly detetected\n",
    "print(\"recall score = {}\".format(svm_recall))"
   ]
  },
  {
   "cell_type": "code",
   "execution_count": 23,
   "metadata": {},
   "outputs": [
    {
     "name": "stdout",
     "output_type": "stream",
     "text": [
      "F1 score of svm: 0.9700272479564033\n"
     ]
    }
   ],
   "source": [
    "# now to compare the results with the next classifier we have to calculate the F1 score using\n",
    "# the precision and recall score\n",
    "# the F1 score is the harmonic mean of precision and recall\n",
    "# the harmonic mean fives much more weight to low values\n",
    "F1_svm = 2 * (svm_precision*svm_recall)/(svm_precision+svm_recall)\n",
    "print(\"F1 score of svm: {}\".format(F1_svm))"
   ]
  },
  {
   "cell_type": "code",
   "execution_count": 24,
   "metadata": {
    "scrolled": true
   },
   "outputs": [
    {
     "name": "stdout",
     "output_type": "stream",
     "text": [
      "svm performed better, with a F1 score of: 0.9700272479564033\n",
      "as opposed to the F1 score of k-nearest neighbors which was: 0.9675675675675676\n"
     ]
    }
   ],
   "source": [
    "if(F1_svm > F1_knearest):\n",
    "    print(\"svm performed better, with a F1 score of: {}\".format(F1_svm))\n",
    "    print(\"as opposed to the F1 score of k-nearest neighbors which was: {}\".format(F1_knearest))\n",
    "else:\n",
    "    print(\"k-nearest neighbors performed better, with a F1 score of: {}\".format(F1_knearest))\n",
    "    print(\"as opposed to the F1 score of svm which was: {}\".format(F1_svm))"
   ]
  },
  {
   "cell_type": "code",
   "execution_count": null,
   "metadata": {},
   "outputs": [],
   "source": []
  }
 ],
 "metadata": {
  "kernelspec": {
   "display_name": "Python 3",
   "language": "python",
   "name": "python3"
  },
  "language_info": {
   "codemirror_mode": {
    "name": "ipython",
    "version": 3
   },
   "file_extension": ".py",
   "mimetype": "text/x-python",
   "name": "python",
   "nbconvert_exporter": "python",
   "pygments_lexer": "ipython3",
   "version": "3.6.8"
  }
 },
 "nbformat": 4,
 "nbformat_minor": 2
}
